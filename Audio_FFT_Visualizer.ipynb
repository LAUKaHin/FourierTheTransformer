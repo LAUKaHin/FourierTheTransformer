{
 "cells": [
  {
   "cell_type": "code",
   "execution_count": 1,
   "id": "0ba0873b",
   "metadata": {},
   "outputs": [
    {
     "ename": "ModuleNotFoundError",
     "evalue": "No module named 'resource'",
     "output_type": "error",
     "traceback": [
      "\u001b[1;31m---------------------------------------------------------------------------\u001b[0m",
      "\u001b[1;31mModuleNotFoundError\u001b[0m                       Traceback (most recent call last)",
      "Cell \u001b[1;32mIn[1], line 9\u001b[0m\n\u001b[0;32m      7\u001b[0m \u001b[38;5;28;01mimport\u001b[39;00m \u001b[38;5;21;01mshutil\u001b[39;00m\n\u001b[0;32m      8\u001b[0m \u001b[38;5;28;01mimport\u001b[39;00m \u001b[38;5;21;01mdatetime\u001b[39;00m\n\u001b[1;32m----> 9\u001b[0m \u001b[38;5;28;01mimport\u001b[39;00m \u001b[38;5;21;01mresource\u001b[39;00m\n\u001b[0;32m     10\u001b[0m \u001b[38;5;28;01mimport\u001b[39;00m \u001b[38;5;21;01mnumpy\u001b[39;00m \u001b[38;5;28;01mas\u001b[39;00m \u001b[38;5;21;01mnp\u001b[39;00m\n\u001b[0;32m     11\u001b[0m \u001b[38;5;28;01mfrom\u001b[39;00m \u001b[38;5;21;01mmatplotlib\u001b[39;00m \u001b[38;5;28;01mimport\u001b[39;00m rc\n",
      "\u001b[1;31mModuleNotFoundError\u001b[0m: No module named 'resource'"
     ]
    }
   ],
   "source": [
    "# imports \n",
    "import os\n",
    "import cv2\n",
    "import sys\n",
    "import time\n",
    "import wave\n",
    "import shutil\n",
    "import datetime\n",
    "import resource\n",
    "import numpy as np\n",
    "from matplotlib import rc\n",
    "from pydub import AudioSegment\n",
    "from moviepy import editor as mp\n",
    "from scipy.fft import rfft, rfftfreq\n",
    "from matplotlib import pyplot as plt"
   ]
  },
  {
   "cell_type": "code",
   "execution_count": 2,
   "id": "f1056e59",
   "metadata": {},
   "outputs": [],
   "source": [
    "startTime = time.time()"
   ]
  },
  {
   "cell_type": "code",
   "execution_count": 55,
   "id": "cb30dc5c",
   "metadata": {},
   "outputs": [],
   "source": [
    "#Set target mp3 and chose plt styling\n",
    "target = \"Skrillex - First Of The Year (Arrangement Nano)\"\n",
    "resolution = 300\n",
    "dimension = (9, 16)\n",
    "ylim = 1e8\n",
    "fps = 30\n",
    "lineColor = \"green\"\n",
    "font = {'fontname':'Agency FB'}\n",
    "majorGridColor = '#300030FF'\n",
    "minorGridColor = '#30003080'\n",
    "fontColor = \"#DFDFDFFF\"\n",
    "gbColor = \"#404040FF\"\n",
    "mbColor = \"#202020FF\""
   ]
  },
  {
   "cell_type": "code",
   "execution_count": 1,
   "id": "6eb35498",
   "metadata": {},
   "outputs": [
    {
     "ename": "NameError",
     "evalue": "name 'resource' is not defined",
     "output_type": "error",
     "traceback": [
      "\u001b[1;31m---------------------------------------------------------------------------\u001b[0m",
      "\u001b[1;31mNameError\u001b[0m                                 Traceback (most recent call last)",
      "Cell \u001b[1;32mIn[1], line 1\u001b[0m\n\u001b[1;32m----> 1\u001b[0m soft, hard \u001b[38;5;241m=\u001b[39m resource\u001b[38;5;241m.\u001b[39mgetrlimit(resource\u001b[38;5;241m.\u001b[39mRLIMIT_AS) \n\u001b[0;32m      2\u001b[0m resource\u001b[38;5;241m.\u001b[39msetrlimit(resource\u001b[38;5;241m.\u001b[39mRLIMIT_AS, (\u001b[38;5;241m4096\u001b[39m, hard))\n",
      "\u001b[1;31mNameError\u001b[0m: name 'resource' is not defined"
     ]
    }
   ],
   "source": [
    "targetDir = target + \"/\"\n",
    "audioDir = \"Audio/\"\n",
    "outputDir = \"Output/\""
   ]
  },
  {
   "cell_type": "code",
   "execution_count": 3,
   "id": "51e80c85",
   "metadata": {},
   "outputs": [
    {
     "data": {
      "text/plain": [
       "'Pornhub/Audio/Pornhub.mp3'"
      ]
     },
     "execution_count": 3,
     "metadata": {},
     "output_type": "execute_result"
    }
   ],
   "source": [
    "#Create project directory\n",
    "if os.path.exists(targetDir)!=True:\n",
    "    os.mkdir(targetDir)\n",
    "if os.path.exists(targetDir+audioDir)!=True:\n",
    "    os.mkdir(targetDir+audioDir)\n",
    "    shutil.move(target+\".mp3\", targetDir+audioDir+target+\".mp3\")\n",
    "if os.path.exists(targetDir+outputDir)!=True:\n",
    "    os.mkdir(targetDir+outputDir)"
   ]
  },
  {
   "cell_type": "code",
   "execution_count": 4,
   "id": "6a56f5d1",
   "metadata": {},
   "outputs": [
    {
     "data": {
      "text/plain": [
       "_wave_params(nchannels=1, sampwidth=2, framerate=44100, nframes=135168, comptype='NONE', compname='not compressed')"
      ]
     },
     "execution_count": 4,
     "metadata": {},
     "output_type": "execute_result"
    }
   ],
   "source": [
    "sound = AudioSegment.from_mp3(targetDir+audioDir+target+\".mp3\")#Convert mp3 stereo to wav mono\n",
    "sound = sound.set_channels(1)\n",
    "sound.export(targetDir+audioDir+target+\"Mono.wav\", format=\"wav\")\n",
    "\n",
    "# reading the audio file \n",
    "raw = wave.open(targetDir+audioDir+target+\"Mono.wav\")\n",
    "raw.getparams()"
   ]
  },
  {
   "cell_type": "code",
   "execution_count": 5,
   "id": "e1fc600f",
   "metadata": {},
   "outputs": [],
   "source": [
    "# reads all the frames  \n",
    "# -1 indicates all or max frames \n",
    "signal = raw.readframes(-1) \n",
    "signal = np.frombuffer(signal, dtype =\"int16\") "
   ]
  },
  {
   "cell_type": "code",
   "execution_count": 6,
   "id": "50566963",
   "metadata": {},
   "outputs": [],
   "source": [
    "# gets the frame rate \n",
    "f_rate = raw.getframerate()"
   ]
  },
  {
   "cell_type": "code",
   "execution_count": 7,
   "id": "87a23a7e",
   "metadata": {},
   "outputs": [
    {
     "name": "stdout",
     "output_type": "stream",
     "text": [
      "135168\n",
      "135168\n"
     ]
    }
   ],
   "source": [
    "# to Plot the x-axis in seconds  \n",
    "# you need get the frame rate  \n",
    "# and divide by size of your signal \n",
    "# to create a Time Vector  \n",
    "# spaced linearly with the size  \n",
    "# of the audio file \n",
    "audioTime = np.linspace( \n",
    "    0, # start \n",
    "    len(signal) / f_rate, \n",
    "    num = len(signal) \n",
    ") \n",
    "print(len(audioTime))\n",
    "print(len(signal))"
   ]
  },
  {
   "cell_type": "code",
   "execution_count": 56,
   "id": "bc1e4993",
   "metadata": {
    "scrolled": true
   },
   "outputs": [
    {
     "name": "stdout",
     "output_type": "stream",
     "text": [
      "x and y must have same first dimension, but have shapes (736,) and (700,)Time taking on execution: 1:32:54\n"
     ]
    },
    {
     "data": {
      "image/png": "[encoded data removed]",
      "text/plain": [
       "<Figure size 1600x900 with 1 Axes>"
      ]
     },
     "metadata": {},
     "output_type": "display_data"
    }
   ],
   "source": [
    "DURATION = 1/fps  # 1/fps sec\n",
    "frameDuration = int(f_rate*DURATION) # 1/fps\n",
    "# Number of samples in normalized_tone\n",
    "N = frameDuration\n",
    "itter = 0\n",
    "\n",
    "try:\n",
    "    for i in np.arange(0, len(signal), frameDuration):\n",
    "        # Note the extra 'r' at the front\n",
    "        yf = rfft(signal[i:i+frameDuration])\n",
    "        xf = rfftfreq(N, 1/f_rate)\n",
    "        print(\"Processing frame: \" + str(itter) + \" of \" + \"{:.3f}\".format(len(signal)/frameDuration-1) + \" Which is \" + \"{:.3f}\".format(itter*DURATION) + \" seconds. Progress: \" + \"{:.3f}\".format((i/len(signal))*100) + \"% \" + \"Time taking on execution: \" + str(datetime.timedelta(seconds=int(time.time()-startTime))), end='\\r')\n",
    "        plt.figure(figsize=dimension, facecolor=mbColor, num=1, clear=True)\n",
    "        plt.axes().set_facecolor(gbColor)\n",
    "        plt.ylim(0.01, ylim)\n",
    "        plt.title(target, fontsize=64, **font, weight='bold', color=fontColor)\n",
    "        plt.xlabel('Frequency (Hz)', fontsize=32, **font, color=fontColor)\n",
    "        plt.ylabel('Magnitude', fontsize=32, **font, color=fontColor)\n",
    "        #plt.plot(xf, np.abs(yf))#For normal view\n",
    "        plt.semilogy(xf, np.abs(yf), color=lineColor)#For log view\n",
    "        plt.margins(x=0)\n",
    "        plt.xticks(np.arange(24000, step=2000), fontsize=16, **font, color=fontColor)\n",
    "        plt.yticks(np.logspace(-2,9,num=9+2+1, base=10,dtype='float'), fontsize=16, **font, color=fontColor)\n",
    "        plt.grid(which='major', color=majorGridColor, linewidth=1)\n",
    "        plt.grid(which='minor', color=minorGridColor, linestyle=\":\", linewidth=0.5)\n",
    "        plt.minorticks_on()\n",
    "        plt.savefig(targetDir+outputDir+target+str(itter), dpi=resolution)\n",
    "        #plt.clf()\n",
    "        #plt.close()\n",
    "        itter+=1\n",
    "except Exception as e:\n",
    "    pass"
   ]
  },
  {
   "cell_type": "code",
   "execution_count": 37,
   "id": "05c13143",
   "metadata": {},
   "outputs": [
    {
     "name": "stdout",
     "output_type": "stream",
     "text": [
      "outputed videome: 92 of 92 Which is 3.067 seconds. Progress: 98.925%Time taking on execution: 0:59:45\n"
     ]
    }
   ],
   "source": [
    "out_video_name = target +\"FFT\" + \".mp4\"\n",
    "out_video_full_path = targetDir+outputDir+out_video_name\n",
    "\n",
    "pre_imgs = os.listdir(targetDir+outputDir)\n",
    "#print(pre_imgs)\n",
    "img = []\n",
    "\n",
    "for i in range(0, len(pre_imgs), 1):\n",
    "    filename = targetDir+outputDir+target+str(i)+\".png\"\n",
    "    #print(i)\n",
    "    img.append(filename)\n",
    "\n",
    "# print(img)\n",
    "\n",
    "cv2_fourcc = cv2.VideoWriter_fourcc(*'mp4v')\n",
    "\n",
    "frame = cv2.imread(img[0])\n",
    "size = list(frame.shape)\n",
    "del size[2]\n",
    "size.reverse()\n",
    "# print(size)\n",
    "\n",
    "video = cv2.VideoWriter(out_video_full_path, cv2_fourcc, fps, size) #output video name, fourcc, fps, size\n",
    "\n",
    "for i in range(len(img)): \n",
    "    video.write(cv2.imread(img[i]))\n",
    "    print(\"Processing frame: \" + str(i) + \" of \" + str(len(img)-1) + \" Which is \" + \"{:.3f}\".format(i/30) + \" seconds. Progress: \" + \"{:.3f}\".format((i/len(img))*100) + \"%\" + \"Time taking on execution: \" + str(datetime.timedelta(seconds=int(time.time()-startTime))), end='\\r')\n",
    "\n",
    "video.release()"
   ]
  },
  {
   "cell_type": "code",
   "execution_count": 38,
   "id": "701ab61a",
   "metadata": {},
   "outputs": [
    {
     "name": "stdout",
     "output_type": "stream",
     "text": [
      "Video duration: 3.03\n",
      "Audio duration: 3.11\n",
      "Cliped audio\n",
      "Video duration: 3.03\n",
      "Audio duration: 3.03\n",
      "Moviepy - Building video Pornhub/Output/Pornhub.mp4.\n",
      "MoviePy - Writing audio in PornhubTEMP_MPY_wvf_snd.mp3\n"
     ]
    },
    {
     "name": "stderr",
     "output_type": "stream",
     "text": [
      "                                                                 \r"
     ]
    },
    {
     "name": "stdout",
     "output_type": "stream",
     "text": [
      "MoviePy - Done.\n",
      "Moviepy - Writing video Pornhub/Output/Pornhub.mp4\n",
      "\n"
     ]
    },
    {
     "name": "stderr",
     "output_type": "stream",
     "text": [
      "                                                            \r"
     ]
    },
    {
     "name": "stdout",
     "output_type": "stream",
     "text": [
      "Moviepy - Done !\n",
      "Moviepy - video ready Pornhub/Output/Pornhub.mp4\n"
     ]
    }
   ],
   "source": [
    "#Add audio to video\n",
    "video = mp.VideoFileClip(out_video_full_path)\n",
    "audio = mp.AudioFileClip(targetDir+audioDir+target+\".mp3\")\n",
    "if video.duration>audio.duration:\n",
    "    video = video.subclip(0, audio.duration)\n",
    "elif audio.duration>video.duration:\n",
    "    audio = audio.subclip(0, video.duration)\n",
    "video.audio = audio\n",
    "video.write_videofile(targetDir+outputDir+target+\".mp4\")"
   ]
  },
  {
   "cell_type": "code",
   "execution_count": 39,
   "id": "01cf30d6",
   "metadata": {},
   "outputs": [
    {
     "name": "stdout",
     "output_type": "stream",
     "text": [
      "Program finnished, time taken: Time taking on execution: 1:01:47\n"
     ]
    }
   ],
   "source": [
    "print( \"Program finnished, time taken: \" + \"Time taking on execution: \" + str(datetime.timedelta(seconds=int(time.time()-startTime))))"
   ]
  },
  {
   "cell_type": "markdown",
   "id": "26a6b921",
   "metadata": {},
   "source": [
    "[1]R. Python, “Fourier Transforms With scipy.fft: Python Signal Processing – Real Python,” realpython.com. <br>https://realpython.com/python-scipy-fft/\n",
    "\n",
    "[2]“Plotting Various Sounds on Graphs using Python and Matplotlib,” GeeksforGeeks, Jul. 26, 2020. <br>https://www.geeksforgeeks.org/plotting-various-sounds-on-graphs-using-python-and-matplotlib/"
   ]
  },
  {
   "cell_type": "code",
   "execution_count": null,
   "id": "da8ca9e4",
   "metadata": {},
   "outputs": [],
   "source": []
  }
 ],
 "metadata": {
  "kernelspec": {
   "display_name": "Python 3 (ipykernel)",
   "language": "python",
   "name": "python3"
  },
  "language_info": {
   "codemirror_mode": {
    "name": "ipython",
    "version": 3
   },
   "file_extension": ".py",
   "mimetype": "text/x-python",
   "name": "python",
   "nbconvert_exporter": "python",
   "pygments_lexer": "ipython3",
   "version": "3.11.5"
  }
 },
 "nbformat": 4,
 "nbformat_minor": 5
}
