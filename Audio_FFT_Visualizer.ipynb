{
 "cells": [
  {
   "cell_type": "code",
   "execution_count": 1,
   "id": "0ba0873b",
   "metadata": {},
   "outputs": [],
   "source": [
    "# imports \n",
    "import matplotlib.pyplot as plt\n",
    "from pydub import AudioSegment\n",
    "import moviepy.editor as mp\n",
    "import numpy as np\n",
    "import wave, sys\n",
    "import os\n",
    "import cv2\n",
    "from scipy.fft import rfft, rfftfreq\n",
    "import shutil\n",
    "import time\n",
    "import datetime"
   ]
  },
  {
   "cell_type": "code",
   "execution_count": 2,
   "id": "f1056e59",
   "metadata": {},
   "outputs": [],
   "source": [
    "startTime = time.time()"
   ]
  },
  {
   "cell_type": "code",
   "execution_count": 3,
   "id": "51e80c85",
   "metadata": {},
   "outputs": [
    {
     "data": {
      "text/plain": [
       "'Pornhub/Audio/Pornhub.mp3'"
      ]
     },
     "execution_count": 3,
     "metadata": {},
     "output_type": "execute_result"
    }
   ],
   "source": [
    "target = \"Pornhub\"\n",
    "targetDir = target + \"/\"\n",
    "audioDir = \"Audio/\"\n",
    "outputDir = \"Output/\"\n",
    "\n",
    "#Create project directory\n",
    "if os.path.exists(targetDir)!=True:\n",
    "    os.mkdir(targetDir)\n",
    "if os.path.exists(targetDir+audioDir)!=True:\n",
    "    os.mkdir(targetDir+audioDir)\n",
    "if os.path.exists(targetDir+outputDir)!=True:\n",
    "    os.mkdir(targetDir+outputDir)\n",
    "shutil.move(target+\".mp3\", targetDir+audioDir+target+\".mp3\")"
   ]
  },
  {
   "cell_type": "code",
   "execution_count": 4,
   "id": "6a56f5d1",
   "metadata": {},
   "outputs": [
    {
     "data": {
      "text/plain": [
       "_wave_params(nchannels=1, sampwidth=2, framerate=44100, nframes=135168, comptype='NONE', compname='not compressed')"
      ]
     },
     "execution_count": 4,
     "metadata": {},
     "output_type": "execute_result"
    }
   ],
   "source": [
    "sound = AudioSegment.from_mp3(targetDir+audioDir+target+\".mp3\")#Convert mp3 stereo to wav mono\n",
    "sound = sound.set_channels(1)\n",
    "sound.export(targetDir+audioDir+target+\"Mono.wav\", format=\"wav\")\n",
    "\n",
    "# reading the audio file \n",
    "raw = wave.open(targetDir+audioDir+target+\"Mono.wav\")\n",
    "raw.getparams()"
   ]
  },
  {
   "cell_type": "code",
   "execution_count": 5,
   "id": "e1fc600f",
   "metadata": {},
   "outputs": [],
   "source": [
    "# reads all the frames  \n",
    "# -1 indicates all or max frames \n",
    "signal = raw.readframes(-1) \n",
    "signal = np.frombuffer(signal, dtype =\"int16\") "
   ]
  },
  {
   "cell_type": "code",
   "execution_count": 6,
   "id": "50566963",
   "metadata": {},
   "outputs": [],
   "source": [
    "# gets the frame rate \n",
    "f_rate = raw.getframerate()"
   ]
  },
  {
   "cell_type": "code",
   "execution_count": 7,
   "id": "87a23a7e",
   "metadata": {},
   "outputs": [
    {
     "name": "stdout",
     "output_type": "stream",
     "text": [
      "135168\n",
      "135168\n"
     ]
    }
   ],
   "source": [
    "# to Plot the x-axis in seconds  \n",
    "# you need get the frame rate  \n",
    "# and divide by size of your signal \n",
    "# to create a Time Vector  \n",
    "# spaced linearly with the size  \n",
    "# of the audio file \n",
    "audioTime = np.linspace( \n",
    "    0, # start \n",
    "    len(signal) / f_rate, \n",
    "    num = len(signal) \n",
    ") \n",
    "print(len(audioTime))\n",
    "print(len(signal))"
   ]
  },
  {
   "cell_type": "code",
   "execution_count": 8,
   "id": "bc1e4993",
   "metadata": {
    "scrolled": true
   },
   "outputs": [
    {
     "name": "stdout",
     "output_type": "stream",
     "text": [
      "x and y must have same first dimension, but have shapes (736,) and (700,)Time taking on execution: 0:01:15\n"
     ]
    },
    {
     "data": {
      "image/png": "[encoded data removed]",
      "text/plain": [
       "<Figure size 1600x900 with 1 Axes>"
      ]
     },
     "metadata": {},
     "output_type": "display_data"
    }
   ],
   "source": [
    "DURATION = 1/30  # 1/30 sec\n",
    "frameDuration = int(f_rate*DURATION) # 1/30sec\n",
    "# Number of samples in normalized_tone\n",
    "N = frameDuration\n",
    "itter = 0\n",
    "\n",
    "try:\n",
    "    for i in np.arange(0, len(signal), frameDuration):\n",
    "        # Note the extra 'r' at the front\n",
    "        yf = rfft(signal[i:i+frameDuration])\n",
    "        xf = rfftfreq(N, 1/f_rate)\n",
    "        print(\"Processing frame: \" + str(itter) + \" of \" + \"{:.3f}\".format(len(signal)/frameDuration-1) + \" Which is \" + \"{:.3f}\".format(itter/30) + \" seconds. Progress: \" + \"{:.3f}\".format((i/len(signal))*100) + \"% \" + \"Time taking on execution: \" + str(datetime.timedelta(seconds=int(time.time()-startTime))), end='\\r')\n",
    "        plt.figure(figsize=(16,9))\n",
    "        plt.ylim(0.01, 10000000)\n",
    "        plt.title(target, fontsize=32)\n",
    "        plt.plot(xf, np.abs(yf))#For normal view\n",
    "        plt.semilogy(xf, np.abs(yf))#For log view\n",
    "        plt.xlabel('Frequency (Hz)', fontsize=16)\n",
    "        plt.ylabel('Magnitude', fontsize=16)\n",
    "        plt.grid(which='major', color='#DDDDDD', linewidth=0.8)\n",
    "        plt.grid(which='minor', color='#EEEEEE', linestyle=':', linewidth=0.5)\n",
    "\n",
    "        plt.margins(x=0)\n",
    "        plt.savefig(targetDir+outputDir+target+str(itter), dpi=300)\n",
    "        #plt.clf()\n",
    "        plt.close()\n",
    "        itter+=1\n",
    "except Exception as e:\n",
    "    print(e)\n",
    "    pass"
   ]
  },
  {
   "cell_type": "code",
   "execution_count": 9,
   "id": "05c13143",
   "metadata": {},
   "outputs": [
    {
     "name": "stdout",
     "output_type": "stream",
     "text": [
      "outputed videome: 92 of 92 Which is 3.067 seconds. Progress: 98.925%Time taking on execution: 0:01:35\n"
     ]
    }
   ],
   "source": [
    "out_video_name = target +\"FFT\" + \".mp4\"\n",
    "out_video_full_path = targetDir+outputDir+out_video_name\n",
    "\n",
    "pre_imgs = os.listdir(targetDir+outputDir)\n",
    "#print(pre_imgs)\n",
    "img = []\n",
    "\n",
    "for i in range(0, len(pre_imgs), 1):\n",
    "    filename = targetDir+outputDir+target+str(i)+\".png\"\n",
    "    #print(i)\n",
    "    img.append(filename)\n",
    "\n",
    "# print(img)\n",
    "\n",
    "cv2_fourcc = cv2.VideoWriter_fourcc(*'mp4v')\n",
    "\n",
    "frame = cv2.imread(img[0])\n",
    "size = list(frame.shape)\n",
    "del size[2]\n",
    "size.reverse()\n",
    "# print(size)\n",
    "\n",
    "video = cv2.VideoWriter(out_video_full_path, cv2_fourcc, 30, size) #output video name, fourcc, fps, size\n",
    "\n",
    "for i in range(len(img)): \n",
    "    video.write(cv2.imread(img[i]))\n",
    "    print(\"Processing frame: \" + str(i) + \" of \" + str(len(img)-1) + \" Which is \" + \"{:.3f}\".format(i/30) + \" seconds. Progress: \" + \"{:.3f}\".format((i/len(img))*100) + \"%\" + \"Time taking on execution: \" + str(datetime.timedelta(seconds=int(time.time()-startTime))), end='\\r')\n",
    "\n",
    "video.release()\n",
    "print('outputed video')"
   ]
  },
  {
   "cell_type": "code",
   "execution_count": 10,
   "id": "701ab61a",
   "metadata": {},
   "outputs": [
    {
     "name": "stdout",
     "output_type": "stream",
     "text": [
      "Video duration: 3.03\n",
      "Audio duration: 3.11\n",
      "Cliped audio\n",
      "Video duration: 3.03\n",
      "Audio duration: 3.03\n",
      "Moviepy - Building video Pornhub/Output/Pornhub.mp4.\n",
      "MoviePy - Writing audio in PornhubTEMP_MPY_wvf_snd.mp3\n"
     ]
    },
    {
     "name": "stderr",
     "output_type": "stream",
     "text": [
      "                                                                 \r"
     ]
    },
    {
     "name": "stdout",
     "output_type": "stream",
     "text": [
      "MoviePy - Done.\n",
      "Moviepy - Writing video Pornhub/Output/Pornhub.mp4\n",
      "\n"
     ]
    },
    {
     "name": "stderr",
     "output_type": "stream",
     "text": [
      "                                                            \r"
     ]
    },
    {
     "name": "stdout",
     "output_type": "stream",
     "text": [
      "Moviepy - Done !\n",
      "Moviepy - video ready Pornhub/Output/Pornhub.mp4\n"
     ]
    }
   ],
   "source": [
    "#Add audio to video\n",
    "video = mp.VideoFileClip(out_video_full_path)\n",
    "print(\"Video duration: \" + str(video.duration))\n",
    "audio = mp.AudioFileClip(targetDir+audioDir+target+\".mp3\")\n",
    "print(\"Audio duration: \" + str(audio.duration))\n",
    "if video.duration>audio.duration:\n",
    "    video = video.subclip(0, audio.duration)\n",
    "    print(\"Cliped video\")\n",
    "elif audio.duration>video.duration:\n",
    "    audio = audio.subclip(0, video.duration)\n",
    "    print(\"Cliped audio\")\n",
    "print(\"Video duration: \" + str(video.duration))\n",
    "print(\"Audio duration: \" + str(audio.duration))\n",
    "video.audio = audio\n",
    "video.write_videofile(targetDir+outputDir+target+\".mp4\")\n"
   ]
  },
  {
   "cell_type": "code",
   "execution_count": 11,
   "id": "01cf30d6",
   "metadata": {},
   "outputs": [
    {
     "name": "stdout",
     "output_type": "stream",
     "text": [
      "Program finnished, time taken: Time taking on execution: 0:02:03\n"
     ]
    }
   ],
   "source": [
    "print( \"Program finnished, time taken: \" + \"Time taking on execution: \" + str(datetime.timedelta(seconds=int(time.time()-startTime))))"
   ]
  },
  {
   "cell_type": "markdown",
   "id": "26a6b921",
   "metadata": {},
   "source": [
    "[1]R. Python, “Fourier Transforms With scipy.fft: Python Signal Processing – Real Python,” realpython.com. <br>https://realpython.com/python-scipy-fft/\n",
    "\n",
    "[2]“Plotting Various Sounds on Graphs using Python and Matplotlib,” GeeksforGeeks, Jul. 26, 2020. <br>https://www.geeksforgeeks.org/plotting-various-sounds-on-graphs-using-python-and-matplotlib/"
   ]
  },
  {
   "cell_type": "code",
   "execution_count": null,
   "id": "da8ca9e4",
   "metadata": {},
   "outputs": [],
   "source": []
  }
 ],
 "metadata": {
  "kernelspec": {
   "display_name": "Python 3 (ipykernel)",
   "language": "python",
   "name": "python3"
  },
  "language_info": {
   "codemirror_mode": {
    "name": "ipython",
    "version": 3
   },
   "file_extension": ".py",
   "mimetype": "text/x-python",
   "name": "python",
   "nbconvert_exporter": "python",
   "pygments_lexer": "ipython3",
   "version": "3.11.5"
  }
 },
 "nbformat": 4,
 "nbformat_minor": 5
}
